{
 "cells": [
  {
   "cell_type": "markdown",
   "id": "c829c54d",
   "metadata": {},
   "source": [
    "# VideoProcessing"
   ]
  },
  {
   "cell_type": "code",
   "execution_count": null,
   "id": "f0b6bf3c",
   "metadata": {},
   "outputs": [
    {
     "ename": "",
     "evalue": "",
     "output_type": "error",
     "traceback": [
      "\u001b[1;31mRunning cells with '/bin/python3' requires the ipykernel package.\n",
      "\u001b[1;31mRun the following command to install 'ipykernel' into the Python environment. \n",
      "\u001b[1;31mCommand: '/bin/python3 -m pip install ipykernel -U --user --force-reinstall'"
     ]
    }
   ],
   "source": [
    "import os\n",
    "import random\n",
    "import numpy as np\n",
    "import cv2\n",
    "import torch\n",
    "from torchvision import models, transforms\n",
    "\n",
    "\n",
    "def video_to_frames(video_path, temp_path, frames_step):\n",
    "    # Extract frames from a video using OpenCV\n",
    "    vidcap = cv2.VideoCapture(video_path)\n",
    "    success, image = vidcap.read()\n",
    "    count = 0\n",
    "    frames = []\n",
    "\n",
    "    while success:\n",
    "        frame_path = os.path.join(temp_path, f\"frame{count}.jpg\")\n",
    "        cv2.imwrite(frame_path, image)  # save frame as JPEG file\n",
    "        success, image = vidcap.read()\n",
    "        count += 1\n",
    "\n",
    "        if count % frames_step == 0:\n",
    "            # Read the last frames_step frames and convert them to tensor\n",
    "            last_frames = []\n",
    "            for i in range(frames_step):\n",
    "                frame_path = os.path.join(temp_path, f\"frame{count - frames_step + i}.jpg\")\n",
    "                frame = cv2.imread(frame_path)\n",
    "                frame = cv2.cvtColor(frame, cv2.COLOR_BGR2RGB)\n",
    "                last_frames.append(frame)\n",
    "\n",
    "            # Apply transforms and add to frames list\n",
    "            transform = transforms.Compose([\n",
    "                transforms.ToPILImage(),\n",
    "                transforms.Resize(256),\n",
    "                transforms.CenterCrop(224),\n",
    "                transforms.ToTensor(),\n",
    "                transforms.Normalize(mean=[0.485, 0.456, 0.406],\n",
    "                                     std=[0.229, 0.224, 0.225])\n",
    "            ])\n",
    "            last_frames = [transform(frame).numpy() for frame in last_frames]\n",
    "            frames.extend(last_frames)\n",
    "\n",
    "    return frames\n",
    "\n",
    "\n",
    "\n",
    "\n",
    "def extract_features(frames):\n",
    "    # Extract features using a pre-trained ResNet50 model\n",
    "    model = models.resnet50(pretrained=True)\n",
    "    model = torch.nn.Sequential(*list(model.children())[:-1])  # Remove last FC layer\n",
    "    model.eval()\n",
    "\n",
    "    with torch.no_grad():\n",
    "        features = []\n",
    "        frames_count = len(frames)\n",
    "        \n",
    "        # Generate a list of indices from 0 to frames_count-1\n",
    "        indices = list(range(frames_count))\n",
    "        # Shuffle the indices randomly\n",
    "        random.shuffle(indices)\n",
    "        # Take the first 80 indices\n",
    "        selected_indices = indices[:80]\n",
    "        # Sort the selected indices in ascending order\n",
    "        selected_indices.sort()\n",
    "        \n",
    "        for index in selected_indices:\n",
    "            frame = frames[index]\n",
    "\n",
    "            frame_tensor = torch.Tensor(frame).unsqueeze(0)\n",
    "            feature = model(frame_tensor).squeeze().numpy()\n",
    "            features.append(feature)\n",
    "\n",
    "    features = np.array(features)\n",
    "    features = np.resize(features, (min(80, frames_count), 4096))\n",
    "    return features\n",
    "\n",
    "\n",
    "\n",
    "def video_to_features(video_dir, temp_dir, feature_dir, frames_step=80):\n",
    "    os.makedirs(temp_dir, exist_ok=True)\n",
    "    os.makedirs(feature_dir, exist_ok=True)\n",
    "\n",
    "    for video_name in os.listdir(video_dir):\n",
    "        video_path = os.path.join(video_dir, video_name)\n",
    "        video_name = os.path.splitext(video_name)[0]\n",
    "        temp_path = os.path.join(temp_dir, video_name)\n",
    "        os.makedirs(temp_path, exist_ok=True)\n",
    "        feature_path = os.path.join(feature_dir, f\"{video_name}.npy\")\n",
    "\n",
    "        frames = video_to_frames(video_path, temp_path, frames_step)\n",
    "        if frames:\n",
    "            features = extract_features(frames)\n",
    "            np.save(feature_path, features)\n",
    "\n",
    "        # Clean up temporary frames\n",
    "        for frame_name in os.listdir(temp_path):\n",
    "            frame_path = os.path.join(temp_path, frame_name)\n",
    "            os.remove(frame_path)\n",
    "        os.rmdir(temp_path)\n"
   ]
  },
  {
   "cell_type": "code",
   "execution_count": 2,
   "id": "da777a93",
   "metadata": {},
   "outputs": [],
   "source": [
    "video_dir = \"C:/Users/User/Documents/P2M/test1/YouTubeClips\"\n",
    "temp_dir = \"C:/Users/User/Documents/P2M/test1/temp\"\n",
    "feature_dir = \"C:/Users/User/Documents/P2M/test1/feature\""
   ]
  },
  {
   "cell_type": "code",
   "execution_count": 3,
   "id": "eaf40f18",
   "metadata": {},
   "outputs": [
    {
     "name": "stderr",
     "output_type": "stream",
     "text": [
      "C:\\Users\\User\\AppData\\Roaming\\Python\\Python38\\site-packages\\torchvision\\models\\_utils.py:208: UserWarning: The parameter 'pretrained' is deprecated since 0.13 and may be removed in the future, please use 'weights' instead.\n",
      "  warnings.warn(\n",
      "C:\\Users\\User\\AppData\\Roaming\\Python\\Python38\\site-packages\\torchvision\\models\\_utils.py:223: UserWarning: Arguments other than a weight enum or `None` for 'weights' are deprecated since 0.13 and may be removed in the future. The current behavior is equivalent to passing `weights=ResNet50_Weights.IMAGENET1K_V1`. You can also use `weights=ResNet50_Weights.DEFAULT` to get the most up-to-date weights.\n",
      "  warnings.warn(msg)\n"
     ]
    }
   ],
   "source": [
    "video_to_features(video_dir,temp_dir,feature_dir)"
   ]
  }
 ],
 "metadata": {
  "kernelspec": {
   "display_name": "Python 3",
   "language": "python",
   "name": "python3"
  },
  "language_info": {
   "codemirror_mode": {
    "name": "ipython",
    "version": 3
   },
   "file_extension": ".py",
   "mimetype": "text/x-python",
   "name": "python",
   "nbconvert_exporter": "python",
   "pygments_lexer": "ipython3",
   "version": "3.10.12"
  }
 },
 "nbformat": 4,
 "nbformat_minor": 5
}
